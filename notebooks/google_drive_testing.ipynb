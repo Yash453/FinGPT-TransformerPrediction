{
  "cells": [
    {
      "cell_type": "markdown",
      "metadata": {},
      "source": [
        "# Checking if it's possible to exploit Google Drive Sharing"
      ]
    },
    {
      "cell_type": "code",
      "execution_count": null,
      "metadata": {
        "colab": {
          "base_uri": "https://localhost:8080/"
        },
        "id": "OzspmM6gm_40",
        "outputId": "88dc87a1-378e-414a-fb6d-da4775fae99b"
      },
      "outputs": [
        {
          "name": "stdout",
          "output_type": "stream",
          "text": [
            "Mounted at /content/drive\n"
          ]
        }
      ],
      "source": [
        "from google.colab import drive\n",
        "drive.mount('/content/drive')"
      ]
    },
    {
      "cell_type": "code",
      "execution_count": null,
      "metadata": {
        "id": "bsVs21xnnBwq"
      },
      "outputs": [],
      "source": [
        "# generate 50mb of a text file and upload it to potato file in MyDrive\n",
        "file = open('/content/drive/MyDrive/potato/potato_file.txt', 'w')\n",
        "file.write('a' * 50000000)\n",
        "file.close()"
      ]
    },
    {
      "cell_type": "markdown",
      "metadata": {},
      "source": [
        "### Conclusion\n",
        "\n",
        "Any files that are uploaded to Google Drive from a notebook use the storage of the account that creates the file. Does not put the storage onto the owner of a shared directory. \n",
        "\n",
        "Workaround - just download and upload files between accounts"
      ]
    }
  ],
  "metadata": {
    "colab": {
      "provenance": []
    },
    "kernelspec": {
      "display_name": "Python 3",
      "name": "python3"
    },
    "language_info": {
      "name": "python"
    }
  },
  "nbformat": 4,
  "nbformat_minor": 0
}
