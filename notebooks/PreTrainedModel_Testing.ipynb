{
  "cells": [
    {
      "cell_type": "markdown",
      "source": [
        "### installs"
      ],
      "metadata": {
        "id": "y4OjLfVqEZsM"
      }
    },
    {
      "cell_type": "code",
      "execution_count": null,
      "metadata": {
        "colab": {
          "base_uri": "https://localhost:8080/"
        },
        "id": "pjWmRG-kmua6",
        "outputId": "fc37b1b9-9514-4de4-ba22-496728fa995c"
      },
      "outputs": [
        {
          "output_type": "stream",
          "name": "stdout",
          "text": [
            "\u001b[2K     \u001b[90m━━━━━━━━━━━━━━━━━━━━━━━━━━━━━━━━━━━━━━━━\u001b[0m \u001b[32m119.8/119.8 MB\u001b[0m \u001b[31m8.2 MB/s\u001b[0m eta \u001b[36m0:00:00\u001b[0m\n",
            "\u001b[?25h  Installing build dependencies ... \u001b[?25l\u001b[?25hdone\n",
            "  Getting requirements to build wheel ... \u001b[?25l\u001b[?25hdone\n",
            "  Preparing metadata (pyproject.toml) ... \u001b[?25l\u001b[?25hdone\n",
            "  Building wheel for transformers (pyproject.toml) ... \u001b[?25l\u001b[?25hdone\n",
            "  Installing build dependencies ... \u001b[?25l\u001b[?25hdone\n",
            "  Getting requirements to build wheel ... \u001b[?25l\u001b[?25hdone\n",
            "  Preparing metadata (pyproject.toml) ... \u001b[?25l\u001b[?25hdone\n",
            "\u001b[2K     \u001b[90m━━━━━━━━━━━━━━━━━━━━━━━━━━━━━━━━━━━━━━━━\u001b[0m \u001b[32m297.4/297.4 kB\u001b[0m \u001b[31m6.2 MB/s\u001b[0m eta \u001b[36m0:00:00\u001b[0m\n",
            "\u001b[?25h  Building wheel for peft (pyproject.toml) ... \u001b[?25l\u001b[?25hdone\n",
            "  Installing build dependencies ... \u001b[?25l\u001b[?25hdone\n",
            "  Getting requirements to build wheel ... \u001b[?25l\u001b[?25hdone\n",
            "  Preparing metadata (pyproject.toml) ... \u001b[?25l\u001b[?25hdone\n",
            "  Building wheel for accelerate (pyproject.toml) ... \u001b[?25l\u001b[?25hdone\n",
            "\u001b[2K     \u001b[90m━━━━━━━━━━━━━━━━━━━━━━━━━━━━━━━━━━━━━━━━\u001b[0m \u001b[32m510.5/510.5 kB\u001b[0m \u001b[31m10.4 MB/s\u001b[0m eta \u001b[36m0:00:00\u001b[0m\n",
            "\u001b[2K     \u001b[90m━━━━━━━━━━━━━━━━━━━━━━━━━━━━━━━━━━━━━━━━\u001b[0m \u001b[32m38.6/38.6 MB\u001b[0m \u001b[31m26.9 MB/s\u001b[0m eta \u001b[36m0:00:00\u001b[0m\n",
            "\u001b[2K     \u001b[90m━━━━━━━━━━━━━━━━━━━━━━━━━━━━━━━━━━━━━━━━\u001b[0m \u001b[32m139.4/139.4 kB\u001b[0m \u001b[31m19.7 MB/s\u001b[0m eta \u001b[36m0:00:00\u001b[0m\n",
            "\u001b[2K     \u001b[90m━━━━━━━━━━━━━━━━━━━━━━━━━━━━━━━━━━━━━━━━\u001b[0m \u001b[32m11.6/11.6 MB\u001b[0m \u001b[31m92.2 MB/s\u001b[0m eta \u001b[36m0:00:00\u001b[0m\n",
            "\u001b[2K     \u001b[90m━━━━━━━━━━━━━━━━━━━━━━━━━━━━━━━━━━━━━━━━\u001b[0m \u001b[32m116.3/116.3 kB\u001b[0m \u001b[31m16.8 MB/s\u001b[0m eta \u001b[36m0:00:00\u001b[0m\n",
            "\u001b[2K     \u001b[90m━━━━━━━━━━━━━━━━━━━━━━━━━━━━━━━━━━━━━━━━\u001b[0m \u001b[32m194.1/194.1 kB\u001b[0m \u001b[31m27.5 MB/s\u001b[0m eta \u001b[36m0:00:00\u001b[0m\n",
            "\u001b[2K     \u001b[90m━━━━━━━━━━━━━━━━━━━━━━━━━━━━━━━━━━━━━━━━\u001b[0m \u001b[32m134.8/134.8 kB\u001b[0m \u001b[31m20.7 MB/s\u001b[0m eta \u001b[36m0:00:00\u001b[0m\n",
            "\u001b[2K     \u001b[90m━━━━━━━━━━━━━━━━━━━━━━━━━━━━━━━━━━━━━━━━\u001b[0m \u001b[32m2.3/2.3 MB\u001b[0m \u001b[31m91.2 MB/s\u001b[0m eta \u001b[36m0:00:00\u001b[0m\n",
            "\u001b[2K     \u001b[90m━━━━━━━━━━━━━━━━━━━━━━━━━━━━━━━━━━━━━━━━\u001b[0m \u001b[32m1.6/1.6 MB\u001b[0m \u001b[31m91.1 MB/s\u001b[0m eta \u001b[36m0:00:00\u001b[0m\n",
            "\u001b[?25hCollecting jsonlines\n",
            "  Downloading jsonlines-4.0.0-py3-none-any.whl (8.7 kB)\n",
            "Requirement already satisfied: attrs>=19.2.0 in /usr/local/lib/python3.10/dist-packages (from jsonlines) (23.2.0)\n",
            "Installing collected packages: jsonlines\n",
            "Successfully installed jsonlines-4.0.0\n",
            "Collecting alpaca-py\n",
            "  Downloading alpaca_py-0.20.3-py3-none-any.whl (111 kB)\n",
            "\u001b[2K     \u001b[90m━━━━━━━━━━━━━━━━━━━━━━━━━━━━━━━━━━━━━━━━\u001b[0m \u001b[32m111.1/111.1 kB\u001b[0m \u001b[31m2.8 MB/s\u001b[0m eta \u001b[36m0:00:00\u001b[0m\n",
            "\u001b[?25hRequirement already satisfied: msgpack<2.0.0,>=1.0.3 in /usr/local/lib/python3.10/dist-packages (from alpaca-py) (1.0.8)\n",
            "Requirement already satisfied: pandas>=1.5.3 in /usr/local/lib/python3.10/dist-packages (from alpaca-py) (2.0.3)\n",
            "Requirement already satisfied: pydantic<3.0.0,>=2.0.3 in /usr/local/lib/python3.10/dist-packages (from alpaca-py) (2.6.4)\n",
            "Requirement already satisfied: requests<3.0.0,>=2.30.0 in /usr/local/lib/python3.10/dist-packages (from alpaca-py) (2.31.0)\n",
            "Collecting sseclient-py<2.0.0,>=1.7.2 (from alpaca-py)\n",
            "  Downloading sseclient_py-1.8.0-py2.py3-none-any.whl (8.8 kB)\n",
            "Collecting websockets>=10.4 (from alpaca-py)\n",
            "  Downloading websockets-12.0-cp310-cp310-manylinux_2_5_x86_64.manylinux1_x86_64.manylinux_2_17_x86_64.manylinux2014_x86_64.whl (130 kB)\n",
            "\u001b[2K     \u001b[90m━━━━━━━━━━━━━━━━━━━━━━━━━━━━━━━━━━━━━━━━\u001b[0m \u001b[32m130.2/130.2 kB\u001b[0m \u001b[31m17.6 MB/s\u001b[0m eta \u001b[36m0:00:00\u001b[0m\n",
            "\u001b[?25hRequirement already satisfied: python-dateutil>=2.8.2 in /usr/local/lib/python3.10/dist-packages (from pandas>=1.5.3->alpaca-py) (2.8.2)\n",
            "Requirement already satisfied: pytz>=2020.1 in /usr/local/lib/python3.10/dist-packages (from pandas>=1.5.3->alpaca-py) (2023.4)\n",
            "Requirement already satisfied: tzdata>=2022.1 in /usr/local/lib/python3.10/dist-packages (from pandas>=1.5.3->alpaca-py) (2024.1)\n",
            "Requirement already satisfied: numpy>=1.21.0 in /usr/local/lib/python3.10/dist-packages (from pandas>=1.5.3->alpaca-py) (1.25.2)\n",
            "Requirement already satisfied: annotated-types>=0.4.0 in /usr/local/lib/python3.10/dist-packages (from pydantic<3.0.0,>=2.0.3->alpaca-py) (0.6.0)\n",
            "Requirement already satisfied: pydantic-core==2.16.3 in /usr/local/lib/python3.10/dist-packages (from pydantic<3.0.0,>=2.0.3->alpaca-py) (2.16.3)\n",
            "Requirement already satisfied: typing-extensions>=4.6.1 in /usr/local/lib/python3.10/dist-packages (from pydantic<3.0.0,>=2.0.3->alpaca-py) (4.11.0)\n",
            "Requirement already satisfied: charset-normalizer<4,>=2 in /usr/local/lib/python3.10/dist-packages (from requests<3.0.0,>=2.30.0->alpaca-py) (3.3.2)\n",
            "Requirement already satisfied: idna<4,>=2.5 in /usr/local/lib/python3.10/dist-packages (from requests<3.0.0,>=2.30.0->alpaca-py) (3.6)\n",
            "Requirement already satisfied: urllib3<3,>=1.21.1 in /usr/local/lib/python3.10/dist-packages (from requests<3.0.0,>=2.30.0->alpaca-py) (2.0.7)\n",
            "Requirement already satisfied: certifi>=2017.4.17 in /usr/local/lib/python3.10/dist-packages (from requests<3.0.0,>=2.30.0->alpaca-py) (2024.2.2)\n",
            "Requirement already satisfied: six>=1.5 in /usr/local/lib/python3.10/dist-packages (from python-dateutil>=2.8.2->pandas>=1.5.3->alpaca-py) (1.16.0)\n",
            "Installing collected packages: sseclient-py, websockets, alpaca-py\n",
            "Successfully installed alpaca-py-0.20.3 sseclient-py-1.8.0 websockets-12.0\n",
            "Collecting alpaca-trade-api\n",
            "  Downloading alpaca_trade_api-3.2.0-py3-none-any.whl (34 kB)\n",
            "Requirement already satisfied: pandas>=0.18.1 in /usr/local/lib/python3.10/dist-packages (from alpaca-trade-api) (2.0.3)\n",
            "Requirement already satisfied: numpy>=1.11.1 in /usr/local/lib/python3.10/dist-packages (from alpaca-trade-api) (1.25.2)\n",
            "Requirement already satisfied: requests<3,>2 in /usr/local/lib/python3.10/dist-packages (from alpaca-trade-api) (2.31.0)\n",
            "Collecting urllib3<2,>1.24 (from alpaca-trade-api)\n",
            "  Downloading urllib3-1.26.18-py2.py3-none-any.whl (143 kB)\n",
            "\u001b[2K     \u001b[90m━━━━━━━━━━━━━━━━━━━━━━━━━━━━━━━━━━━━━━━━\u001b[0m \u001b[32m143.8/143.8 kB\u001b[0m \u001b[31m7.0 MB/s\u001b[0m eta \u001b[36m0:00:00\u001b[0m\n",
            "\u001b[?25hRequirement already satisfied: websocket-client<2,>=0.56.0 in /usr/local/lib/python3.10/dist-packages (from alpaca-trade-api) (1.7.0)\n",
            "Collecting websockets<11,>=9.0 (from alpaca-trade-api)\n",
            "  Downloading websockets-10.4-cp310-cp310-manylinux_2_5_x86_64.manylinux1_x86_64.manylinux_2_17_x86_64.manylinux2014_x86_64.whl (106 kB)\n",
            "\u001b[2K     \u001b[90m━━━━━━━━━━━━━━━━━━━━━━━━━━━━━━━━━━━━━━━━\u001b[0m \u001b[32m106.8/106.8 kB\u001b[0m \u001b[31m16.6 MB/s\u001b[0m eta \u001b[36m0:00:00\u001b[0m\n",
            "\u001b[?25hCollecting msgpack==1.0.3 (from alpaca-trade-api)\n",
            "  Downloading msgpack-1.0.3-cp310-cp310-manylinux_2_17_x86_64.manylinux2014_x86_64.whl (323 kB)\n",
            "\u001b[2K     \u001b[90m━━━━━━━━━━━━━━━━━━━━━━━━━━━━━━━━━━━━━━━━\u001b[0m \u001b[32m323.7/323.7 kB\u001b[0m \u001b[31m30.4 MB/s\u001b[0m eta \u001b[36m0:00:00\u001b[0m\n",
            "\u001b[?25hRequirement already satisfied: aiohttp<4,>=3.8.3 in /usr/local/lib/python3.10/dist-packages (from alpaca-trade-api) (3.9.3)\n",
            "Requirement already satisfied: PyYAML==6.0.1 in /usr/local/lib/python3.10/dist-packages (from alpaca-trade-api) (6.0.1)\n",
            "Collecting deprecation==2.1.0 (from alpaca-trade-api)\n",
            "  Downloading deprecation-2.1.0-py2.py3-none-any.whl (11 kB)\n",
            "Requirement already satisfied: packaging in /usr/local/lib/python3.10/dist-packages (from deprecation==2.1.0->alpaca-trade-api) (24.0)\n",
            "Requirement already satisfied: aiosignal>=1.1.2 in /usr/local/lib/python3.10/dist-packages (from aiohttp<4,>=3.8.3->alpaca-trade-api) (1.3.1)\n",
            "Requirement already satisfied: attrs>=17.3.0 in /usr/local/lib/python3.10/dist-packages (from aiohttp<4,>=3.8.3->alpaca-trade-api) (23.2.0)\n",
            "Requirement already satisfied: frozenlist>=1.1.1 in /usr/local/lib/python3.10/dist-packages (from aiohttp<4,>=3.8.3->alpaca-trade-api) (1.4.1)\n",
            "Requirement already satisfied: multidict<7.0,>=4.5 in /usr/local/lib/python3.10/dist-packages (from aiohttp<4,>=3.8.3->alpaca-trade-api) (6.0.5)\n",
            "Requirement already satisfied: yarl<2.0,>=1.0 in /usr/local/lib/python3.10/dist-packages (from aiohttp<4,>=3.8.3->alpaca-trade-api) (1.9.4)\n",
            "Requirement already satisfied: async-timeout<5.0,>=4.0 in /usr/local/lib/python3.10/dist-packages (from aiohttp<4,>=3.8.3->alpaca-trade-api) (4.0.3)\n",
            "Requirement already satisfied: python-dateutil>=2.8.2 in /usr/local/lib/python3.10/dist-packages (from pandas>=0.18.1->alpaca-trade-api) (2.8.2)\n",
            "Requirement already satisfied: pytz>=2020.1 in /usr/local/lib/python3.10/dist-packages (from pandas>=0.18.1->alpaca-trade-api) (2023.4)\n",
            "Requirement already satisfied: tzdata>=2022.1 in /usr/local/lib/python3.10/dist-packages (from pandas>=0.18.1->alpaca-trade-api) (2024.1)\n",
            "Requirement already satisfied: charset-normalizer<4,>=2 in /usr/local/lib/python3.10/dist-packages (from requests<3,>2->alpaca-trade-api) (3.3.2)\n",
            "Requirement already satisfied: idna<4,>=2.5 in /usr/local/lib/python3.10/dist-packages (from requests<3,>2->alpaca-trade-api) (3.6)\n",
            "Requirement already satisfied: certifi>=2017.4.17 in /usr/local/lib/python3.10/dist-packages (from requests<3,>2->alpaca-trade-api) (2024.2.2)\n",
            "Requirement already satisfied: six>=1.5 in /usr/local/lib/python3.10/dist-packages (from python-dateutil>=2.8.2->pandas>=0.18.1->alpaca-trade-api) (1.16.0)\n",
            "Installing collected packages: msgpack, websockets, urllib3, deprecation, alpaca-trade-api\n",
            "  Attempting uninstall: msgpack\n",
            "    Found existing installation: msgpack 1.0.8\n",
            "    Uninstalling msgpack-1.0.8:\n",
            "      Successfully uninstalled msgpack-1.0.8\n",
            "  Attempting uninstall: websockets\n",
            "    Found existing installation: websockets 12.0\n",
            "    Uninstalling websockets-12.0:\n",
            "      Successfully uninstalled websockets-12.0\n",
            "  Attempting uninstall: urllib3\n",
            "    Found existing installation: urllib3 2.0.7\n",
            "    Uninstalling urllib3-2.0.7:\n",
            "      Successfully uninstalled urllib3-2.0.7\n",
            "Successfully installed alpaca-trade-api-3.2.0 deprecation-2.1.0 msgpack-1.0.3 urllib3-1.26.18 websockets-10.4\n",
            "Collecting websockets==11.0.3\n",
            "  Downloading websockets-11.0.3-cp310-cp310-manylinux_2_5_x86_64.manylinux1_x86_64.manylinux_2_17_x86_64.manylinux2014_x86_64.whl (129 kB)\n",
            "\u001b[2K     \u001b[90m━━━━━━━━━━━━━━━━━━━━━━━━━━━━━━━━━━━━━━━━\u001b[0m \u001b[32m129.9/129.9 kB\u001b[0m \u001b[31m2.7 MB/s\u001b[0m eta \u001b[36m0:00:00\u001b[0m\n",
            "\u001b[?25hInstalling collected packages: websockets\n",
            "  Attempting uninstall: websockets\n",
            "    Found existing installation: websockets 10.4\n",
            "    Uninstalling websockets-10.4:\n",
            "      Successfully uninstalled websockets-10.4\n",
            "\u001b[31mERROR: pip's dependency resolver does not currently take into account all the packages that are installed. This behaviour is the source of the following dependency conflicts.\n",
            "alpaca-trade-api 3.2.0 requires websockets<11,>=9.0, but you have websockets 11.0.3 which is incompatible.\u001b[0m\u001b[31m\n",
            "\u001b[0mSuccessfully installed websockets-11.0.3\n"
          ]
        }
      ],
      "source": [
        "!pip install -q -U bitsandbytes\n",
        "!pip install -q -U git+https://github.com/huggingface/transformers.git\n",
        "!pip install -q -U git+https://github.com/huggingface/peft.git\n",
        "!pip install -q -U git+https://github.com/huggingface/accelerate.git\n",
        "!pip install -q -U datasets scipy ipywidgets matplotlib\n",
        "!pip install jsonlines\n",
        "!pip install alpaca-py\n",
        "!pip install alpaca-trade-api\n",
        "!pip install websockets==11.0.3"
      ]
    },
    {
      "cell_type": "markdown",
      "source": [
        "### login"
      ],
      "metadata": {
        "id": "srA-66QjEjJl"
      }
    },
    {
      "cell_type": "code",
      "execution_count": null,
      "metadata": {
        "id": "sgEX18qTqEGW"
      },
      "outputs": [],
      "source": [
        "from accelerate import FullyShardedDataParallelPlugin, Accelerator\n",
        "from torch.distributed.fsdp.fully_sharded_data_parallel import FullOptimStateDictConfig, FullStateDictConfig\n",
        "\n",
        "fsdp_plugin = FullyShardedDataParallelPlugin(\n",
        "    state_dict_config=FullStateDictConfig(offload_to_cpu=True, rank0_only=False),\n",
        "    optim_state_dict_config=FullOptimStateDictConfig(offload_to_cpu=True, rank0_only=False),\n",
        ")\n",
        "\n",
        "accelerator = Accelerator(fsdp_plugin=fsdp_plugin)"
      ]
    },
    {
      "cell_type": "code",
      "execution_count": null,
      "metadata": {
        "id": "mNv3geCdqH1_",
        "colab": {
          "base_uri": "https://localhost:8080/"
        },
        "outputId": "c2833595-4e10-4ca3-eb23-700d6a216c70"
      },
      "outputs": [
        {
          "output_type": "stream",
          "name": "stdout",
          "text": [
            "Mounted at /content/drive\n"
          ]
        }
      ],
      "source": [
        "from google.colab import drive\n",
        "drive.mount(\"/content/drive\")"
      ]
    },
    {
      "cell_type": "code",
      "execution_count": null,
      "metadata": {
        "id": "8np7A5UVqJxw",
        "colab": {
          "base_uri": "https://localhost:8080/"
        },
        "outputId": "cf4d1660-28fd-4267-ee48-1327573eac89"
      },
      "outputs": [
        {
          "output_type": "stream",
          "name": "stdout",
          "text": [
            "\n",
            "    _|    _|  _|    _|    _|_|_|    _|_|_|  _|_|_|  _|      _|    _|_|_|      _|_|_|_|    _|_|      _|_|_|  _|_|_|_|\n",
            "    _|    _|  _|    _|  _|        _|          _|    _|_|    _|  _|            _|        _|    _|  _|        _|\n",
            "    _|_|_|_|  _|    _|  _|  _|_|  _|  _|_|    _|    _|  _|  _|  _|  _|_|      _|_|_|    _|_|_|_|  _|        _|_|_|\n",
            "    _|    _|  _|    _|  _|    _|  _|    _|    _|    _|    _|_|  _|    _|      _|        _|    _|  _|        _|\n",
            "    _|    _|    _|_|      _|_|_|    _|_|_|  _|_|_|  _|      _|    _|_|_|      _|        _|    _|    _|_|_|  _|_|_|_|\n",
            "\n",
            "    To login, `huggingface_hub` requires a token generated from https://huggingface.co/settings/tokens .\n",
            "Token: \n",
            "Add token as git credential? (Y/n) n\n",
            "Token is valid (permission: write).\n",
            "Your token has been saved to /root/.cache/huggingface/token\n",
            "Login successful\n"
          ]
        }
      ],
      "source": [
        "!huggingface-cli login"
      ]
    },
    {
      "cell_type": "markdown",
      "source": [
        "### Training Data"
      ],
      "metadata": {
        "id": "jPcPF6TYE7BM"
      }
    },
    {
      "cell_type": "code",
      "source": [
        "\n",
        "from datetime import datetime, timedelta\n",
        "import yfinance as yf\n",
        "import json\n",
        "from google.colab import drive\n",
        "\n",
        "\n",
        "# Fetching the data\n",
        "ticker = \"AAPL\"  # Ticker symbol for Dow Jones Industrial Average\n",
        "# Mount your Google Drive\n",
        "from google.colab import drive\n",
        "drive.mount(\"/content/drive\")\n",
        "\n",
        "# Change directory to where the file is saved\n",
        "#%cd /content/drive/MyDrive\n",
        "\n",
        "# Read the data from the file\n",
        "import pandas as pd\n",
        "data = yf.download(ticker, start=\"2023-01-01\", end=\"2023-01-08\")  # Example: Data for 2023\n",
        "\n",
        "\n",
        "import json\n",
        "import jsonlines\n",
        "\n",
        "# Step 1: Download the data\n",
        "# data = yf.download(tickers='GOOG', period='5d', interval='1m')\n",
        "\n",
        "# Step 2: Convert the data to a list of dictionaries\n",
        "data_list = data.to_dict('records')\n",
        "#print(data_list)\n",
        "# Step 3: Write the data to a .jsonl file\n",
        "with open('data.jsonl', 'w') as f:\n",
        "    for item in data_list:\n",
        "        json.dump(item, f)\n",
        "        f.write('\\n')\n",
        "\n",
        "\n",
        "\"\"\"\n",
        "Credit for the following code is used from my partner Ethan Zhang that I am using for testing inputting into the model\n",
        "\"\"\"\n",
        "end_date = datetime.now().date()\n",
        "start_date = end_date - timedelta(days=7)\n",
        "# Fetch the DJIA stock data\n",
        "djia_data = yf.download(ticker, start=start_date, end=end_date)\n",
        "print(djia_data)\n",
        "\n",
        "# Convert the DataFrame to a list of dictionaries\n",
        "djia_records = djia_data.reset_index().to_dict('records')\n",
        "output_file = \"djia_stock_data.jsonl\"\n",
        "with open(output_file, 'w') as f:\n",
        "    pass\n",
        "\n",
        "for i in range(7, len(djia_records)):\n",
        "    input_days = djia_records[i-7:i]\n",
        "    output_day = djia_records[i]\n",
        "\n",
        "    # make each input a string and each output a string with the following format:\n",
        "    # input:\n",
        "    # \"Market Values for previous 6 days:\n",
        "    # Day 1: Open:{open} High:{high} Low:{low} Close:{close} Adj Close:{adj close} Volume:{volume}, ...\n",
        "    # Day 6: Open:{open} High:{high} Low:{low} Close:{close} Adj Close:{adj close} Volume:{volume}.\"\n",
        "    # output: \"Today's Market Values: Open:{open} High:{high} Low:{low} Close:{close} Adj Close:{adj close} Volume:{volume}\"\n",
        "    input_str = \"Market Values for previous 6 days:\"\n",
        "    for j in range(6):\n",
        "        input_str += (\n",
        "            f\"Day {j+1}: Open:{input_days[j]['Open']} High:{input_days[j]['High']} \"\n",
        "            f\"Low:{input_days[j]['Low']} Close:{input_days[j]['Close']} Adj \"\n",
        "            f\"Close:{input_days[j]['Adj Close']} Volume:{input_days[j]['Volume']}, \"\n",
        "            if j != 5 else\n",
        "            f\"Day {j+1}: Open:{input_days[j]['Open']} High:{input_days[j]['High']} \"\n",
        "            f\"Low:{input_days[j]['Low']} Close:{input_days[j]['Close']} Adj \"\n",
        "            f\"Close:{input_days[j]['Adj Close']} Volume:{input_days[j]['Volume']}.\"\n",
        "        )\n",
        "\n",
        "    output_str = (\n",
        "        f\"Today's Market Values: Open:{output_day['Open']} High:{output_day['High']} \"\n",
        "        f\"Low:{output_day['Low']} Close:{output_day['Close']} Adj \"\n",
        "        f\"Close:{output_day['Adj Close']} Volume:{output_day['Volume']}\"\n",
        "    )\n",
        "\n",
        "    # create a new record with the input and output strings\n",
        "    record = {\"input\": input_str, \"output\": output_str}\n",
        "\n",
        "    # print(str(record) + \"\\n\")\n",
        "\n",
        "    # write the record to the JSON Lines file\n",
        "    with jsonlines.open(output_file, mode='a') as writer:\n",
        "        writer.write(record)\n",
        "\n",
        "# Open the .jsonl file\n",
        "with open(output_file, 'r') as file:\n",
        "    for line in file:\n",
        "        json_object = json.loads(line)\n",
        "\n",
        "        print(json_object)\n",
        "        print('test')"
      ],
      "metadata": {
        "colab": {
          "base_uri": "https://localhost:8080/"
        },
        "id": "A_8x9FsfE3Fw",
        "outputId": "ecf43660-0684-47db-ac2d-64b825db1581"
      },
      "execution_count": null,
      "outputs": [
        {
          "output_type": "stream",
          "name": "stdout",
          "text": [
            "Drive already mounted at /content/drive; to attempt to forcibly remount, call drive.mount(\"/content/drive\", force_remount=True).\n"
          ]
        },
        {
          "output_type": "stream",
          "name": "stderr",
          "text": [
            "[*********************100%%**********************]  1 of 1 completed\n",
            "[*********************100%%**********************]  1 of 1 completed"
          ]
        },
        {
          "output_type": "stream",
          "name": "stdout",
          "text": [
            "                  Open        High         Low       Close   Adj Close  \\\n",
            "Date                                                                     \n",
            "2024-04-09  168.699997  170.080002  168.350006  169.669998  169.669998   \n",
            "2024-04-10  168.800003  169.089996  167.110001  167.779999  167.779999   \n",
            "2024-04-11  168.339996  175.460007  168.160004  175.039993  175.039993   \n",
            "2024-04-12  174.259995  178.360001  174.210007  176.550003  176.550003   \n",
            "2024-04-15  175.360001  176.630005  172.500000  172.690002  172.690002   \n",
            "\n",
            "               Volume  \n",
            "Date                   \n",
            "2024-04-09   42451200  \n",
            "2024-04-10   49709300  \n",
            "2024-04-11   91070300  \n",
            "2024-04-12  101593300  \n",
            "2024-04-15   73531800  \n"
          ]
        },
        {
          "output_type": "stream",
          "name": "stderr",
          "text": [
            "\n"
          ]
        }
      ]
    },
    {
      "cell_type": "code",
      "source": [
        "from datetime import datetime, timedelta\n",
        "import yfinance as yf\n",
        "import json\n",
        "from google.colab import drive\n",
        "\n",
        "\n",
        "def get_past_6days(ticker):\n",
        "    # Calculate the date range\n",
        "    end_date = datetime.now().date()\n",
        "    start_date = end_date - timedelta(days=6)  # Only need the last 6 days\n",
        "\n",
        "    # Fetch the stock data for the given range\n",
        "    data = yf.download(ticker, start=start_date, end=end_date)\n",
        "\n",
        "    # Reset the index to handle the date column properly\n",
        "    data.reset_index(inplace=True)\n",
        "\n",
        "    # Initialize the input string to compile daily values\n",
        "    input_str = \"Market Values for the past 6 days:\\n\"\n",
        "\n",
        "    # Loop through each day's data to format it\n",
        "    for index, row in data.iterrows():\n",
        "        day_number = index + 1\n",
        "        daily_values = (\n",
        "            f\"Day {day_number}: Open:{row['Open']} High:{row['High']} \"\n",
        "            f\"Low:{row['Low']} Close:{row['Close']} Adj \"\n",
        "            f\"Close:{row['Adj Close']} Volume:{row['Volume']}\\n\"\n",
        "        )\n",
        "        input_str += daily_values\n",
        "\n",
        "    return input_str\n",
        "\n",
        "ticker = \"AAPL\"\n",
        "market_data = get_past_6days(ticker)\n",
        "print(market_data)\n",
        "\n"
      ],
      "metadata": {
        "colab": {
          "base_uri": "https://localhost:8080/"
        },
        "id": "NynABAMJk3-k",
        "outputId": "50b6e42a-7937-42c9-eef6-2b5b4a377239"
      },
      "execution_count": null,
      "outputs": [
        {
          "output_type": "stream",
          "name": "stderr",
          "text": [
            "\r[*********************100%%**********************]  1 of 1 completed"
          ]
        },
        {
          "output_type": "stream",
          "name": "stdout",
          "text": [
            "Market Values for the past 6 days:\n",
            "Day 1: Open:168.8000030517578 High:169.08999633789062 Low:167.11000061035156 Close:167.77999877929688 Adj Close:167.77999877929688 Volume:49709300\n",
            "Day 2: Open:168.33999633789062 High:175.4600067138672 Low:168.16000366210938 Close:175.0399932861328 Adj Close:175.0399932861328 Volume:91070300\n",
            "Day 3: Open:174.25999450683594 High:178.36000061035156 Low:174.2100067138672 Close:176.5500030517578 Adj Close:176.5500030517578 Volume:101593300\n",
            "Day 4: Open:175.36000061035156 High:176.6300048828125 Low:172.5 Close:172.69000244140625 Adj Close:172.69000244140625 Volume:73531800\n",
            "\n"
          ]
        },
        {
          "output_type": "stream",
          "name": "stderr",
          "text": [
            "\n"
          ]
        }
      ]
    },
    {
      "cell_type": "markdown",
      "source": [
        "### Transformer Model"
      ],
      "metadata": {
        "id": "JVfVMMnnE_vq"
      }
    },
    {
      "cell_type": "code",
      "execution_count": null,
      "metadata": {
        "id": "A4-7j7bzqLtb"
      },
      "outputs": [],
      "source": [
        "from transformers import AutoTokenizer\n",
        "import torch\n",
        "from transformers import AutoTokenizer, AutoModelForCausalLM, BitsAndBytesConfig\n",
        "import matplotlib.pyplot as plt\n"
      ]
    },
    {
      "cell_type": "code",
      "execution_count": null,
      "metadata": {
        "id": "jzPZYVPhqNTw",
        "colab": {
          "base_uri": "https://localhost:8080/",
          "height": 17,
          "referenced_widgets": [
            "afc3cecd24d94c11a557af4511723e87",
            "f257368df68e454188b2a31964600af6",
            "1328e5ac670e4ac6967f81b1b4e65f63",
            "178079140a8b4ada8b17d718f232b40f",
            "83f4d3ef1a104fa488db309e199893c6",
            "668444ebebe74b72926d33b321b72982",
            "e1e6365cbcfe44508af916ebfc14d8d5",
            "9619b30c1c624220ac069ee09e56f910",
            "662163a412bc41daadfcc872189df386",
            "93b4aa0d45d44a2983ac3cf0cb7c84d6",
            "2ae72018d4b74d919f6884a11203e874"
          ]
        },
        "outputId": "332bc66b-8393-4b6f-c71c-f31119032492"
      },
      "outputs": [
        {
          "output_type": "display_data",
          "data": {
            "text/plain": [
              "Loading checkpoint shards:   0%|          | 0/2 [00:00<?, ?it/s]"
            ],
            "application/vnd.jupyter.widget-view+json": {
              "version_major": 2,
              "version_minor": 0,
              "model_id": "afc3cecd24d94c11a557af4511723e87"
            }
          },
          "metadata": {}
        }
      ],
      "source": [
        "import torch\n",
        "from transformers import AutoTokenizer, AutoModelForCausalLM, BitsAndBytesConfig\n",
        "\n",
        "base_model_id = \"meta-llama/Llama-2-7b-hf\"\n",
        "bnb_config = BitsAndBytesConfig(\n",
        "    load_in_4bit=True,\n",
        "    bnb_4bit_use_double_quant=True,\n",
        "    bnb_4bit_quant_type=\"nf4\",\n",
        "    bnb_4bit_compute_dtype=torch.bfloat16\n",
        ")\n",
        "\n",
        "base_model = AutoModelForCausalLM.from_pretrained(\n",
        "    base_model_id,\n",
        "    quantization_config=bnb_config,  # Same quantization config as before\n",
        "    device_map=\"auto\",\n",
        "    trust_remote_code=True\n",
        ")\n",
        "\n",
        "tokenizer = AutoTokenizer.from_pretrained(base_model_id, add_bos_token=True, trust_remote_code=True)\n",
        "\n",
        "from peft import PeftModel\n",
        "\n",
        "ft_model = PeftModel.from_pretrained(base_model, \"/content/drive/MyDrive/FinGPT/llama2-7b-journal-finetune/checkpoint-500\")"
      ]
    },
    {
      "cell_type": "markdown",
      "source": [
        "### Model Execution"
      ],
      "metadata": {
        "id": "dtv2vi1_FWFf"
      }
    },
    {
      "cell_type": "code",
      "execution_count": null,
      "metadata": {
        "id": "Kyqc5ViWqefU",
        "colab": {
          "base_uri": "https://localhost:8080/"
        },
        "outputId": "c7512e4c-c4e7-45bd-c56e-74a203b47f29"
      },
      "outputs": [
        {
          "output_type": "stream",
          "name": "stderr",
          "text": [
            "\r[*********************100%%**********************]  1 of 1 completed\n"
          ]
        },
        {
          "output_type": "stream",
          "name": "stdout",
          "text": [
            "Given the following financial input data for the past 6 days, Give only one word Buy or Sell:\n",
            "\n",
            "### Financial Input Data:\n",
            "Market Values for the past 6 days:\n",
            "Day 1: Open:168.8000030517578 High:169.08999633789062 Low:167.11000061035156 Close:167.77999877929688 Adj Close:167.77999877929688 Volume:49709300\n",
            "Day 2: Open:168.33999633789062 High:175.4600067138672 Low:168.16000366210938 Close:175.0399932861328 Adj Close:175.0399932861328 Volume:91070300\n",
            "Day 3: Open:174.25999450683594 High:178.36000061035156 Low:174.2100067138672 Close:176.5500030517578 Adj Close:176.5500030517578 Volume:101593300\n",
            "Day 4: Open:175.36000061035156 High:176.6300048828125 Low:172.5 Close:172.69000244140625 Adj Close:172.69000244140625 Volume:73531800\n",
            "\n",
            "### Output Data:\n",
            "Day 5: Open:173.099998046875 High:173.160003125 Low:169.5600009765625 Close:170.140006103515625 Adj Close:170.140006103515625 Volume:28512400\n",
            "Day 6: Open:170.429998046875 High:170.800003125 Low:168.39000390625 Close:169.0699990234375 Adj Close:169.0699990234375 Volume:24345400\n",
            "\n",
            "### Sell Signal:\n",
            "Day 5: Open:173.099998046875 High:173.160003125 Low:169.5600009765625 Close:170.1400061035156\n"
          ]
        }
      ],
      "source": [
        "#Use model to predict buying or selling the data\n",
        "eval_prompt = \"\"\"Given the following financial input data for the past 6 days, Give only one word Buy or Sell:\n",
        "\n",
        "### Financial Input Data:\n",
        "\"\"\" +  get_past_6days(\"AAPL\") + \"\"\"\n",
        "### Output Data:\n",
        "\"\"\"\n",
        "#print(eval_prompt)\n",
        "model_input = tokenizer(eval_prompt, return_tensors=\"pt\").to(\"cuda\")\n",
        "\n",
        "ft_model.eval()\n",
        "with torch.no_grad():\n",
        "    output_str = tokenizer.decode(ft_model.generate(**model_input, max_new_tokens=300)[0], skip_special_tokens=True)\n",
        "    print(output_str)"
      ]
    },
    {
      "cell_type": "code",
      "source": [
        "#Determine decision based on Model Output\n",
        "split_str = output_str.split(\"Output Data:\")\n",
        "print(\"Buy\" in split_str[1])\n",
        "decision = 'B' if \"Buy\" in split_str[1] else 'S'\n",
        "print(decision)"
      ],
      "metadata": {
        "colab": {
          "base_uri": "https://localhost:8080/"
        },
        "id": "4PhCYMdHCLC4",
        "outputId": "6b328cf6-2f14-41ee-e9b0-39e2ac26dda1"
      },
      "execution_count": null,
      "outputs": [
        {
          "output_type": "stream",
          "name": "stdout",
          "text": [
            "False\n",
            "S\n"
          ]
        }
      ]
    },
    {
      "cell_type": "markdown",
      "source": [
        "### Alpaca"
      ],
      "metadata": {
        "id": "_8t0lASaFjVL"
      }
    },
    {
      "cell_type": "code",
      "source": [
        "%cd /content/drive/MyDrive/trading_bot/"
      ],
      "metadata": {
        "colab": {
          "base_uri": "https://localhost:8080/"
        },
        "id": "FydroqZMEgAM",
        "outputId": "bd46d4a8-23eb-4b39-f589-6fdbcbcfbb3f"
      },
      "execution_count": null,
      "outputs": [
        {
          "output_type": "stream",
          "name": "stdout",
          "text": [
            "/content/drive/MyDrive/trading_bot\n"
          ]
        }
      ]
    },
    {
      "cell_type": "code",
      "source": [
        "# new_eval = \"Respond with one word, Buy or Sell if this data indicates buying or selling this stock\" + output_str\n",
        "# model_input = tokenizer(new_eval, return_tensors=\"pt\").to(\"cuda\")\n",
        "# ft_model.eval()\n",
        "# with torch.no_grad():\n",
        "#     temp = tokenizer.decode(ft_model.generate(**model_input, max_new_tokens=300)[0], skip_special_tokens=True)\n",
        "#     print(temp)\n",
        "# hello\n"
      ],
      "metadata": {
        "colab": {
          "base_uri": "https://localhost:8080/"
        },
        "id": "4wMSFtg9-uoV",
        "outputId": "737bbf38-719d-40ee-b93c-89413167d2b8"
      },
      "execution_count": null,
      "outputs": [
        {
          "output_type": "stream",
          "name": "stdout",
          "text": [
            "Respond with one word, Buy or Sell if this data indicates buying or selling this stock Given the following financial input data for the past 4 days, Respond with one word, Buy or Sell\n",
            "\n",
            "### Financial Input Data:\n",
            "Market Values for previous 4 days:\n",
            "Day 1: Open:171.190002 High:171.250000 Low:169.479996 Close:170.029999 Adj Close:170.029999 Volume:46240500,\n",
            "Day 2: Open:169.080002 High:169.339996 Low:168.229996 Close:168.839996 Adj Close:168.839996 Volume:49329500,\n",
            "Day 3: Open:168.789993 High:170.679993 Low:168.580002 Close:169.649994 Adj Close:169.649994 Volume:47602100,\n",
            "Day 4: Open:170.289993 High:171.919998 Low:168.820007 Close:168.820007 Adj Close:168.820007 Volume:53704400,\n",
            "\n",
            "### Output Data:\n",
            "Day 5: Open:168.789993 High:168.789993 Low:166.809994 Close:166.809994 Adj Close:166.809994 Volume:31035500,\n",
            "Day 6: Open:167.729994 High:168.580002 Low:166.820007 Close:167.729994 Adj Close:167.729994 Volume:33544100,\n",
            "Day 7: Open:168.039996 High:169.280004 Low:168.039996 Close:168.990004 Adj Close:168.990004 Volume:31560300,\n",
            "Day 8: Open:169.160004 High:170.140006 Low:168.850008 Close:169.080004 Adj Close:169.080004 Volume:32506700,\n",
            "Day 9: Open:169.020003 High:169.889998 Low:168.380007 Close:168.430007 Adj Close:168.430007 Volume:34324000,\n",
            "Day 10: Open:168.360003 High:169.090005 Low:167.909998 Close:168.010003 Adj Close:168.010003 Volume:34309900,\n",
            "Day 11: Open:168.070003 High:168.720005 Low:167.000097 Close:167.700005 Adj Close:167.700005 Volume:30931200,\n",
            "Day 12: Open:167.570003 High:167.570003 Low:164.990007 Close:165.47000\n"
          ]
        }
      ]
    },
    {
      "cell_type": "code",
      "source": [
        "from trade import *\n",
        "\n",
        "api = setup()\n",
        "\n",
        "symbol = input('Enter a Stock Ticker to trade ==> ')\n",
        "info = get_past_6days(symbol)\n",
        "print(info)\n",
        "#decision = input('Enter B/S for buying and selling ==> ')\n",
        "qty = input('Enter the number of stocks you wish to buy/sell ==> ')\n",
        "\n",
        "trade_stock(api, symbol, decision, qty)"
      ],
      "metadata": {
        "colab": {
          "base_uri": "https://localhost:8080/"
        },
        "id": "uGvFFh3aCjah",
        "outputId": "5d2cc412-9b43-4c50-ac08-e5aa600736e7"
      },
      "execution_count": null,
      "outputs": [
        {
          "name": "stdout",
          "output_type": "stream",
          "text": [
            "Enter a Stock Ticker to trade ==> AAPL\n"
          ]
        },
        {
          "output_type": "stream",
          "name": "stderr",
          "text": [
            "\r[*********************100%%**********************]  1 of 1 completed\n"
          ]
        },
        {
          "output_type": "stream",
          "name": "stdout",
          "text": [
            "Market Values for the past 6 days:\n",
            "Day 1: Open:168.8000030517578 High:169.08999633789062 Low:167.11000061035156 Close:167.77999877929688 Adj Close:167.77999877929688 Volume:49709300\n",
            "Day 2: Open:168.33999633789062 High:175.4600067138672 Low:168.16000366210938 Close:175.0399932861328 Adj Close:175.0399932861328 Volume:91070300\n",
            "Day 3: Open:174.25999450683594 High:178.36000061035156 Low:174.2100067138672 Close:176.5500030517578 Adj Close:176.5500030517578 Volume:101593300\n",
            "Day 4: Open:175.36000061035156 High:176.6300048828125 Low:172.5 Close:172.69000244140625 Adj Close:172.69000244140625 Volume:73531800\n",
            "\n",
            "Enter the number of stocks you wish to buy/sell ==> 10\n",
            "Placing a sell order for 10 shares of AAPL at $169.34\n"
          ]
        }
      ]
    }
  ],
  "metadata": {
    "accelerator": "GPU",
    "colab": {
      "gpuType": "T4",
      "provenance": []
    },
    "kernelspec": {
      "display_name": "Python 3",
      "name": "python3"
    },
    "language_info": {
      "name": "python"
    },
    "widgets": {
      "application/vnd.jupyter.widget-state+json": {
        "afc3cecd24d94c11a557af4511723e87": {
          "model_module": "@jupyter-widgets/controls",
          "model_name": "HBoxModel",
          "model_module_version": "2.0.0",
          "state": {
            "_dom_classes": [],
            "_model_module": "@jupyter-widgets/controls",
            "_model_module_version": "2.0.0",
            "_model_name": "HBoxModel",
            "_view_count": null,
            "_view_module": "@jupyter-widgets/controls",
            "_view_module_version": "2.0.0",
            "_view_name": "HBoxView",
            "box_style": "",
            "children": [
              "IPY_MODEL_f257368df68e454188b2a31964600af6",
              "IPY_MODEL_1328e5ac670e4ac6967f81b1b4e65f63",
              "IPY_MODEL_178079140a8b4ada8b17d718f232b40f"
            ],
            "layout": "IPY_MODEL_83f4d3ef1a104fa488db309e199893c6",
            "tabbable": null,
            "tooltip": null
          }
        },
        "f257368df68e454188b2a31964600af6": {
          "model_module": "@jupyter-widgets/controls",
          "model_name": "HTMLModel",
          "model_module_version": "2.0.0",
          "state": {
            "_dom_classes": [],
            "_model_module": "@jupyter-widgets/controls",
            "_model_module_version": "2.0.0",
            "_model_name": "HTMLModel",
            "_view_count": null,
            "_view_module": "@jupyter-widgets/controls",
            "_view_module_version": "2.0.0",
            "_view_name": "HTMLView",
            "description": "",
            "description_allow_html": false,
            "layout": "IPY_MODEL_668444ebebe74b72926d33b321b72982",
            "placeholder": "​",
            "style": "IPY_MODEL_e1e6365cbcfe44508af916ebfc14d8d5",
            "tabbable": null,
            "tooltip": null,
            "value": "Loading checkpoint shards: 100%"
          }
        },
        "1328e5ac670e4ac6967f81b1b4e65f63": {
          "model_module": "@jupyter-widgets/controls",
          "model_name": "FloatProgressModel",
          "model_module_version": "2.0.0",
          "state": {
            "_dom_classes": [],
            "_model_module": "@jupyter-widgets/controls",
            "_model_module_version": "2.0.0",
            "_model_name": "FloatProgressModel",
            "_view_count": null,
            "_view_module": "@jupyter-widgets/controls",
            "_view_module_version": "2.0.0",
            "_view_name": "ProgressView",
            "bar_style": "success",
            "description": "",
            "description_allow_html": false,
            "layout": "IPY_MODEL_9619b30c1c624220ac069ee09e56f910",
            "max": 2,
            "min": 0,
            "orientation": "horizontal",
            "style": "IPY_MODEL_662163a412bc41daadfcc872189df386",
            "tabbable": null,
            "tooltip": null,
            "value": 2
          }
        },
        "178079140a8b4ada8b17d718f232b40f": {
          "model_module": "@jupyter-widgets/controls",
          "model_name": "HTMLModel",
          "model_module_version": "2.0.0",
          "state": {
            "_dom_classes": [],
            "_model_module": "@jupyter-widgets/controls",
            "_model_module_version": "2.0.0",
            "_model_name": "HTMLModel",
            "_view_count": null,
            "_view_module": "@jupyter-widgets/controls",
            "_view_module_version": "2.0.0",
            "_view_name": "HTMLView",
            "description": "",
            "description_allow_html": false,
            "layout": "IPY_MODEL_93b4aa0d45d44a2983ac3cf0cb7c84d6",
            "placeholder": "​",
            "style": "IPY_MODEL_2ae72018d4b74d919f6884a11203e874",
            "tabbable": null,
            "tooltip": null,
            "value": " 2/2 [01:01&lt;00:00, 28.29s/it]"
          }
        },
        "83f4d3ef1a104fa488db309e199893c6": {
          "model_module": "@jupyter-widgets/base",
          "model_name": "LayoutModel",
          "model_module_version": "2.0.0",
          "state": {
            "_model_module": "@jupyter-widgets/base",
            "_model_module_version": "2.0.0",
            "_model_name": "LayoutModel",
            "_view_count": null,
            "_view_module": "@jupyter-widgets/base",
            "_view_module_version": "2.0.0",
            "_view_name": "LayoutView",
            "align_content": null,
            "align_items": null,
            "align_self": null,
            "border_bottom": null,
            "border_left": null,
            "border_right": null,
            "border_top": null,
            "bottom": null,
            "display": null,
            "flex": null,
            "flex_flow": null,
            "grid_area": null,
            "grid_auto_columns": null,
            "grid_auto_flow": null,
            "grid_auto_rows": null,
            "grid_column": null,
            "grid_gap": null,
            "grid_row": null,
            "grid_template_areas": null,
            "grid_template_columns": null,
            "grid_template_rows": null,
            "height": null,
            "justify_content": null,
            "justify_items": null,
            "left": null,
            "margin": null,
            "max_height": null,
            "max_width": null,
            "min_height": null,
            "min_width": null,
            "object_fit": null,
            "object_position": null,
            "order": null,
            "overflow": null,
            "padding": null,
            "right": null,
            "top": null,
            "visibility": null,
            "width": null
          }
        },
        "668444ebebe74b72926d33b321b72982": {
          "model_module": "@jupyter-widgets/base",
          "model_name": "LayoutModel",
          "model_module_version": "2.0.0",
          "state": {
            "_model_module": "@jupyter-widgets/base",
            "_model_module_version": "2.0.0",
            "_model_name": "LayoutModel",
            "_view_count": null,
            "_view_module": "@jupyter-widgets/base",
            "_view_module_version": "2.0.0",
            "_view_name": "LayoutView",
            "align_content": null,
            "align_items": null,
            "align_self": null,
            "border_bottom": null,
            "border_left": null,
            "border_right": null,
            "border_top": null,
            "bottom": null,
            "display": null,
            "flex": null,
            "flex_flow": null,
            "grid_area": null,
            "grid_auto_columns": null,
            "grid_auto_flow": null,
            "grid_auto_rows": null,
            "grid_column": null,
            "grid_gap": null,
            "grid_row": null,
            "grid_template_areas": null,
            "grid_template_columns": null,
            "grid_template_rows": null,
            "height": null,
            "justify_content": null,
            "justify_items": null,
            "left": null,
            "margin": null,
            "max_height": null,
            "max_width": null,
            "min_height": null,
            "min_width": null,
            "object_fit": null,
            "object_position": null,
            "order": null,
            "overflow": null,
            "padding": null,
            "right": null,
            "top": null,
            "visibility": null,
            "width": null
          }
        },
        "e1e6365cbcfe44508af916ebfc14d8d5": {
          "model_module": "@jupyter-widgets/controls",
          "model_name": "HTMLStyleModel",
          "model_module_version": "2.0.0",
          "state": {
            "_model_module": "@jupyter-widgets/controls",
            "_model_module_version": "2.0.0",
            "_model_name": "HTMLStyleModel",
            "_view_count": null,
            "_view_module": "@jupyter-widgets/base",
            "_view_module_version": "2.0.0",
            "_view_name": "StyleView",
            "background": null,
            "description_width": "",
            "font_size": null,
            "text_color": null
          }
        },
        "9619b30c1c624220ac069ee09e56f910": {
          "model_module": "@jupyter-widgets/base",
          "model_name": "LayoutModel",
          "model_module_version": "2.0.0",
          "state": {
            "_model_module": "@jupyter-widgets/base",
            "_model_module_version": "2.0.0",
            "_model_name": "LayoutModel",
            "_view_count": null,
            "_view_module": "@jupyter-widgets/base",
            "_view_module_version": "2.0.0",
            "_view_name": "LayoutView",
            "align_content": null,
            "align_items": null,
            "align_self": null,
            "border_bottom": null,
            "border_left": null,
            "border_right": null,
            "border_top": null,
            "bottom": null,
            "display": null,
            "flex": null,
            "flex_flow": null,
            "grid_area": null,
            "grid_auto_columns": null,
            "grid_auto_flow": null,
            "grid_auto_rows": null,
            "grid_column": null,
            "grid_gap": null,
            "grid_row": null,
            "grid_template_areas": null,
            "grid_template_columns": null,
            "grid_template_rows": null,
            "height": null,
            "justify_content": null,
            "justify_items": null,
            "left": null,
            "margin": null,
            "max_height": null,
            "max_width": null,
            "min_height": null,
            "min_width": null,
            "object_fit": null,
            "object_position": null,
            "order": null,
            "overflow": null,
            "padding": null,
            "right": null,
            "top": null,
            "visibility": null,
            "width": null
          }
        },
        "662163a412bc41daadfcc872189df386": {
          "model_module": "@jupyter-widgets/controls",
          "model_name": "ProgressStyleModel",
          "model_module_version": "2.0.0",
          "state": {
            "_model_module": "@jupyter-widgets/controls",
            "_model_module_version": "2.0.0",
            "_model_name": "ProgressStyleModel",
            "_view_count": null,
            "_view_module": "@jupyter-widgets/base",
            "_view_module_version": "2.0.0",
            "_view_name": "StyleView",
            "bar_color": null,
            "description_width": ""
          }
        },
        "93b4aa0d45d44a2983ac3cf0cb7c84d6": {
          "model_module": "@jupyter-widgets/base",
          "model_name": "LayoutModel",
          "model_module_version": "2.0.0",
          "state": {
            "_model_module": "@jupyter-widgets/base",
            "_model_module_version": "2.0.0",
            "_model_name": "LayoutModel",
            "_view_count": null,
            "_view_module": "@jupyter-widgets/base",
            "_view_module_version": "2.0.0",
            "_view_name": "LayoutView",
            "align_content": null,
            "align_items": null,
            "align_self": null,
            "border_bottom": null,
            "border_left": null,
            "border_right": null,
            "border_top": null,
            "bottom": null,
            "display": null,
            "flex": null,
            "flex_flow": null,
            "grid_area": null,
            "grid_auto_columns": null,
            "grid_auto_flow": null,
            "grid_auto_rows": null,
            "grid_column": null,
            "grid_gap": null,
            "grid_row": null,
            "grid_template_areas": null,
            "grid_template_columns": null,
            "grid_template_rows": null,
            "height": null,
            "justify_content": null,
            "justify_items": null,
            "left": null,
            "margin": null,
            "max_height": null,
            "max_width": null,
            "min_height": null,
            "min_width": null,
            "object_fit": null,
            "object_position": null,
            "order": null,
            "overflow": null,
            "padding": null,
            "right": null,
            "top": null,
            "visibility": null,
            "width": null
          }
        },
        "2ae72018d4b74d919f6884a11203e874": {
          "model_module": "@jupyter-widgets/controls",
          "model_name": "HTMLStyleModel",
          "model_module_version": "2.0.0",
          "state": {
            "_model_module": "@jupyter-widgets/controls",
            "_model_module_version": "2.0.0",
            "_model_name": "HTMLStyleModel",
            "_view_count": null,
            "_view_module": "@jupyter-widgets/base",
            "_view_module_version": "2.0.0",
            "_view_name": "StyleView",
            "background": null,
            "description_width": "",
            "font_size": null,
            "text_color": null
          }
        }
      }
    }
  },
  "nbformat": 4,
  "nbformat_minor": 0
}